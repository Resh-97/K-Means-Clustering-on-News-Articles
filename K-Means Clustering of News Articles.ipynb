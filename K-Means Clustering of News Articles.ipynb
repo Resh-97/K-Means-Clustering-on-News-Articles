{
 "cells": [
  {
   "cell_type": "code",
   "execution_count": 1,
   "metadata": {},
   "outputs": [],
   "source": [
    "# Import libraries here\n",
    "import numpy as np\n",
    "import pandas as pd\n",
    "from sklearn.cluster import KMeans  \n",
    "from sklearn.decomposition import PCA"
   ]
  },
  {
   "cell_type": "code",
   "execution_count": 2,
   "metadata": {},
   "outputs": [
    {
     "data": {
      "text/html": [
       "<div>\n",
       "<style scoped>\n",
       "    .dataframe tbody tr th:only-of-type {\n",
       "        vertical-align: middle;\n",
       "    }\n",
       "\n",
       "    .dataframe tbody tr th {\n",
       "        vertical-align: top;\n",
       "    }\n",
       "\n",
       "    .dataframe thead th {\n",
       "        text-align: right;\n",
       "    }\n",
       "</style>\n",
       "<table border=\"1\" class=\"dataframe\">\n",
       "  <thead>\n",
       "    <tr style=\"text-align: right;\">\n",
       "      <th></th>\n",
       "      <th>Article</th>\n",
       "      <th>Preprocessed-Article</th>\n",
       "      <th>Vector</th>\n",
       "    </tr>\n",
       "  </thead>\n",
       "  <tbody>\n",
       "    <tr>\n",
       "      <th>0</th>\n",
       "      <td>Musical treatment for Capra film\\n\\nThe classi...</td>\n",
       "      <td>Musical treatment Capra film The classic film ...</td>\n",
       "      <td>[0.0, 0.0, 0.0, 0.0, 0.0, 0.0, 0.0, 0.0, 0.0, ...</td>\n",
       "    </tr>\n",
       "    <tr>\n",
       "      <th>1</th>\n",
       "      <td>Spark heads world Booker list\\n\\nDame Muriel S...</td>\n",
       "      <td>Spark heads world Booker list Dame Muriel Spar...</td>\n",
       "      <td>[0.0, 0.0, 0.0, 0.0, 0.0, 0.0, 0.0, 0.0, 0.0, ...</td>\n",
       "    </tr>\n",
       "    <tr>\n",
       "      <th>10</th>\n",
       "      <td>Artists' secret postcards on sale\\n\\nPostcards...</td>\n",
       "      <td>Artists  secret postcards sale Postcards artis...</td>\n",
       "      <td>[0.0, 0.0, 0.0, 0.0, 0.0, 0.0, 0.0, 0.0, 0.0, ...</td>\n",
       "    </tr>\n",
       "    <tr>\n",
       "      <th>100</th>\n",
       "      <td>Chepkemei joins Edinburgh line-up\\n\\nSusan Che...</td>\n",
       "      <td>Chepkemei joins Edinburgh lineup Susan Chepkem...</td>\n",
       "      <td>[0.0, 0.0, 0.0, 0.0, 0.0, 0.0, 0.0, 0.0, 0.0, ...</td>\n",
       "    </tr>\n",
       "    <tr>\n",
       "      <th>101</th>\n",
       "      <td>El Guerrouj targets cross country\\n\\nDouble Ol...</td>\n",
       "      <td>El Guerrouj targets cross country Double Olymp...</td>\n",
       "      <td>[0.0, 0.0, 0.0, 0.0, 0.0, 0.0, 0.0, 0.0, 0.0, ...</td>\n",
       "    </tr>\n",
       "  </tbody>\n",
       "</table>\n",
       "</div>"
      ],
      "text/plain": [
       "                                               Article  \\\n",
       "0    Musical treatment for Capra film\\n\\nThe classi...   \n",
       "1    Spark heads world Booker list\\n\\nDame Muriel S...   \n",
       "10   Artists' secret postcards on sale\\n\\nPostcards...   \n",
       "100  Chepkemei joins Edinburgh line-up\\n\\nSusan Che...   \n",
       "101  El Guerrouj targets cross country\\n\\nDouble Ol...   \n",
       "\n",
       "                                  Preprocessed-Article  \\\n",
       "0    Musical treatment Capra film The classic film ...   \n",
       "1    Spark heads world Booker list Dame Muriel Spar...   \n",
       "10   Artists  secret postcards sale Postcards artis...   \n",
       "100  Chepkemei joins Edinburgh lineup Susan Chepkem...   \n",
       "101  El Guerrouj targets cross country Double Olymp...   \n",
       "\n",
       "                                                Vector  \n",
       "0    [0.0, 0.0, 0.0, 0.0, 0.0, 0.0, 0.0, 0.0, 0.0, ...  \n",
       "1    [0.0, 0.0, 0.0, 0.0, 0.0, 0.0, 0.0, 0.0, 0.0, ...  \n",
       "10   [0.0, 0.0, 0.0, 0.0, 0.0, 0.0, 0.0, 0.0, 0.0, ...  \n",
       "100  [0.0, 0.0, 0.0, 0.0, 0.0, 0.0, 0.0, 0.0, 0.0, ...  \n",
       "101  [0.0, 0.0, 0.0, 0.0, 0.0, 0.0, 0.0, 0.0, 0.0, ...  "
      ]
     },
     "execution_count": 2,
     "metadata": {},
     "output_type": "execute_result"
    }
   ],
   "source": [
    "Data = pd.read_json(\"NewsArticles.json\")\n",
    "NewsArticle_df = pd.DataFrame(Data,columns=Data.columns)\n",
    "NewsArticle_df.reset_index\n",
    "NewsArticle_df.head()"
   ]
  },
  {
   "cell_type": "code",
   "execution_count": 3,
   "metadata": {},
   "outputs": [
    {
     "name": "stdout",
     "output_type": "stream",
     "text": [
      "164.38\n"
     ]
    }
   ],
   "source": [
    "#Extracting the vectors into columns\n",
    "vectors = NewsArticle_df.Vector.apply(pd.Series)\n",
    "\n",
    "#kmeans\n",
    "kmeans = KMeans(n_clusters=5,random_state=10)\n",
    "kmeans.fit(vectors)\n",
    "labels_df =pd.DataFrame(kmeans.labels_ , columns = ['labels_pre_pca'])\n",
    "cluster_result = pd.concat([vectors,labels_df],axis =1)\n",
    "NewsArticle_result = pd.concat([NewsArticle_df,labels_df],axis =1)\n",
    "\n",
    "SSE_pre_pca = (kmeans.inertia_).round(2)\n",
    "print(SSE_pre_pca) #Task 1 "
   ]
  },
  {
   "cell_type": "code",
   "execution_count": 4,
   "metadata": {},
   "outputs": [
    {
     "name": "stdout",
     "output_type": "stream",
     "text": [
      "110.8\n"
     ]
    }
   ],
   "source": [
    "pca = PCA(n_components=100)\n",
    "pca.fit(vectors)\n",
    "vectors_2d =pca.transform(vectors)\n",
    "vectors_post_pca = pd.DataFrame(vectors_2d)\n",
    "kmeans_afterPCA=KMeans(n_clusters=5,random_state=10)\n",
    "kmeans_afterPCA.fit(vectors_post_pca)\n",
    "\n",
    "labels_df_post_pca =pd.DataFrame(kmeans_afterPCA.labels_ , columns = ['labels_post_pca'])\n",
    "cluster_result = pd.concat([cluster_result,labels_df_post_pca],axis =1)\n",
    "NewsArticle_result = pd.concat([NewsArticle_result,labels_df_post_pca],axis =1)\n",
    "\n",
    "SSE_post_pca = (kmeans_afterPCA.inertia_).round(2)\n",
    "print(SSE_post_pca) #Task 2"
   ]
  },
  {
   "cell_type": "code",
   "execution_count": 8,
   "metadata": {},
   "outputs": [
    {
     "name": "stdout",
     "output_type": "stream",
     "text": [
      "Cluster having the highest value of count (before PCA) is 1 with count 68\n"
     ]
    }
   ],
   "source": [
    "size_pre = cluster_result.groupby(\"labels_pre_pca\").count()[0]\n",
    "size_post = cluster_result.round(2).groupby(\"labels_post_pca\").count()[0]\n",
    "for k in range(0,5):\n",
    "    if size_pre[k] == max(size_pre):\n",
    "        high_count_pre_pca = k\n",
    "        count_pre = size_pre[k]\n",
    "print('Cluster having the highest value of count (before PCA) is {}'.format(high_count_pre_pca),\"with count {}\".format(count_pre)) #Task 3"
   ]
  },
  {
   "cell_type": "code",
   "execution_count": 10,
   "metadata": {},
   "outputs": [
    {
     "name": "stdout",
     "output_type": "stream",
     "text": [
      "Cluster having the highest value of count (after PCA) is 3 with count 94\n"
     ]
    }
   ],
   "source": [
    "for k in range(0,5):\n",
    "    if size_post[k] == max(size_post):\n",
    "        high_count_post_pca = k\n",
    "        count_post =size_post[k]\n",
    "print('Cluster having the highest value of count (after PCA) is {}'.format(high_count_post_pca),\"with count {}\".format(count_post)) #Task 4"
   ]
  },
  {
   "cell_type": "code",
   "execution_count": 11,
   "metadata": {},
   "outputs": [
    {
     "name": "stdout",
     "output_type": "stream",
     "text": [
      "stages\n"
     ]
    }
   ],
   "source": [
    "entertainment_pre = NewsArticle_result[(NewsArticle_result['labels_pre_pca']==3)]\n",
    "word_list=entertainment_pre['Preprocessed-Article'][0].rsplit(\" \")\n",
    "for x in word_list:\n",
    "    if (x == ' ' ) or (x == '' ):\n",
    "        word_list.remove(x)\n",
    "print(word_list[49]) #Task 5"
   ]
  },
  {
   "cell_type": "code",
   "execution_count": 12,
   "metadata": {},
   "outputs": [
    {
     "name": "stdout",
     "output_type": "stream",
     "text": [
      "stages\n"
     ]
    }
   ],
   "source": [
    "entertainment_post = NewsArticle_result[(NewsArticle_result['labels_post_pca']==3)]\n",
    "entertainment_post.reset_index(inplace=True)\n",
    "#print(entertainment_post)\n",
    "word_list_post=entertainment_post['Preprocessed-Article'][0].rsplit(\" \")\n",
    "for x in word_list_post:\n",
    "    if (x == ' ' ) or (x == '' ):\n",
    "        word_list_post.remove(x)\n",
    "print(word_list_post[49])     #Task 6"
   ]
  },
  {
   "cell_type": "code",
   "execution_count": null,
   "metadata": {},
   "outputs": [],
   "source": [
    "#Saving the outputs\n",
    "\n",
    "result = [SSE_pre_pca,SSE_post_pca,high_count_pre_pca,count_pre,high_count_post_pca,count_post,word_list[49],word_list_post[49]]\n",
    "result=pd.DataFrame(result)\n",
    "#writing output to output.csv\n",
    "result.to_csv('/output.csv', header=False, index=False)"
   ]
  }
 ],
 "metadata": {
  "kernelspec": {
   "display_name": "Python 3",
   "language": "python",
   "name": "python3"
  },
  "language_info": {
   "codemirror_mode": {
    "name": "ipython",
    "version": 3
   },
   "file_extension": ".py",
   "mimetype": "text/x-python",
   "name": "python",
   "nbconvert_exporter": "python",
   "pygments_lexer": "ipython3",
   "version": "3.7.3"
  }
 },
 "nbformat": 4,
 "nbformat_minor": 2
}
